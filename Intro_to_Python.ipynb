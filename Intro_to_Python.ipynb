{
  "metadata": {
    "language_info": {
      "codemirror_mode": {
        "name": "python",
        "version": 3
      },
      "file_extension": ".py",
      "mimetype": "text/x-python",
      "name": "python",
      "nbconvert_exporter": "python",
      "pygments_lexer": "ipython3",
      "version": "3.8"
    },
    "kernelspec": {
      "name": "python",
      "display_name": "Python (Pyodide)",
      "language": "python"
    }
  },
  "nbformat_minor": 4,
  "nbformat": 4,
  "cells": [
    {
      "cell_type": "markdown",
      "source": "# Introduction to Python - Exploring the food we eat...",
      "metadata": {}
    },
    {
      "cell_type": "markdown",
      "source": "## Weclome to our Python session!",
      "metadata": {}
    },
    {
      "cell_type": "markdown",
      "source": "In this session you'll have a chance to start working with some real Python code to undertake some real data analysis!",
      "metadata": {}
    },
    {
      "cell_type": "markdown",
      "source": "The document you are looking at right now is called a JUPYTER NOTEBOOK.",
      "metadata": {}
    },
    {
      "cell_type": "markdown",
      "source": "A Jupyter Notebook is made up of cells (the grey boxes). These cells can be text (known as markdown), code or visulisations/images, to name a few. To select a cell click anywhere in the box and a large blue box will appear arround it. To edit a cell click in it twice and the surrounding box will turn green.\nAs shown below.",
      "metadata": {}
    },
    {
      "cell_type": "markdown",
      "source": "## How to run a cell of code",
      "metadata": {}
    },
    {
      "cell_type": "markdown",
      "source": "1. type CTRL + ENTER on your key board (shift + enter for mac",
      "metadata": {}
    },
    {
      "cell_type": "markdown",
      "source": "OR",
      "metadata": {}
    },
    {
      "cell_type": "markdown",
      "source": "2. click the play buttor on the Jupter Notebook the menu above",
      "metadata": {}
    },
    {
      "cell_type": "markdown",
      "source": "## How do I know if I have run the cell?",
      "metadata": {}
    },
    {
      "cell_type": "markdown",
      "source": "If the cell of code has been run a number will appear in squared brackets by the cell e.g. In [1]: or In [12]:\n\nThe numbering refers to the order in which you have run the cells\n\nAn un-run cell of code has an empty set of squared brackets by the cell I.e. In []:",
      "metadata": {}
    },
    {
      "cell_type": "markdown",
      "source": "## How do I add a new cell?",
      "metadata": {}
    },
    {
      "cell_type": "markdown",
      "source": "To add a new cell select a cell (so it is surrounded by a blue box) and type 'b' to add a cell bellow or 'a' to add a cell above.\n\nTo delete a cell select it and double tap 'd'.",
      "metadata": {}
    },
    {
      "cell_type": "markdown",
      "source": "# Hello World",
      "metadata": {}
    },
    {
      "cell_type": "markdown",
      "source": "One of the first things any data scientist learns about coding is learning to get the computer to say hello!",
      "metadata": {}
    },
    {
      "cell_type": "markdown",
      "source": "This is known as 'Hello World'",
      "metadata": {}
    },
    {
      "cell_type": "markdown",
      "source": "We can ask the computer to print anything we like. Here we are asking it to return a sentence to make sure everything behdind the scenes is working as it should be.",
      "metadata": {}
    },
    {
      "cell_type": "markdown",
      "source": "### Try running the cell of code below. \nRemember you can either:\n    - Select the cell and press the play button at the top of the screen.\n    -Select the cell and use CNTRL and ENTER",
      "metadata": {}
    },
    {
      "cell_type": "code",
      "source": "print(\"Hello World\")",
      "metadata": {
        "trusted": true
      },
      "execution_count": 5,
      "outputs": [
        {
          "name": "stdout",
          "text": "Hello World\n",
          "output_type": "stream"
        }
      ]
    },
    {
      "cell_type": "markdown",
      "source": "Once the cell of code has run you will see the result below. \n\nHere you should see the words \"Hello World\" appear below the box.\n\nWe haved asked the computer to 'print'. When we do this anything within the bracked and quotation marks (\"\") will be shown.",
      "metadata": {}
    },
    {
      "cell_type": "markdown",
      "source": "## Maths!",
      "metadata": {}
    },
    {
      "cell_type": "markdown",
      "source": "We can even use tools like Python like a calculator and use it to work out maths problems whilst we work!",
      "metadata": {}
    },
    {
      "cell_type": "markdown",
      "source": "### Run the cell below and see what happens",
      "metadata": {}
    },
    {
      "cell_type": "code",
      "source": "2+2",
      "metadata": {
        "trusted": true
      },
      "execution_count": 7,
      "outputs": [
        {
          "execution_count": 7,
          "output_type": "execute_result",
          "data": {
            "text/plain": "4"
          },
          "metadata": {}
        }
      ]
    },
    {
      "cell_type": "markdown",
      "source": "You should see that below the cell we have just run you will have the correct answer - why not try a more complicated sum?",
      "metadata": {}
    },
    {
      "cell_type": "markdown",
      "source": "### Variables!",
      "metadata": {}
    },
    {
      "cell_type": "markdown",
      "source": "When we are working with Data it is helpful for us to be able to name things.",
      "metadata": {}
    },
    {
      "cell_type": "markdown",
      "source": "When we want to name something, we call this a variable. It is easy to think of these as places to store information.\n\n#### In the two cells below I will create a variable for my own name, save this to the computer and ask it to repeat it for me.",
      "metadata": {}
    },
    {
      "cell_type": "code",
      "source": "Name = \"Ryan\"",
      "metadata": {
        "trusted": true
      },
      "execution_count": 17,
      "outputs": []
    },
    {
      "cell_type": "code",
      "source": "Name",
      "metadata": {
        "trusted": true
      },
      "execution_count": 18,
      "outputs": [
        {
          "execution_count": 18,
          "output_type": "execute_result",
          "data": {
            "text/plain": "'Ryan'"
          },
          "metadata": {}
        }
      ]
    },
    {
      "cell_type": "markdown",
      "source": "### We can store anything like this - here try for yourself in the boxes below!",
      "metadata": {}
    },
    {
      "cell_type": "code",
      "source": "",
      "metadata": {},
      "execution_count": null,
      "outputs": []
    },
    {
      "cell_type": "code",
      "source": "",
      "metadata": {},
      "execution_count": null,
      "outputs": []
    },
    {
      "cell_type": "code",
      "source": "",
      "metadata": {},
      "execution_count": null,
      "outputs": []
    },
    {
      "cell_type": "code",
      "source": "",
      "metadata": {},
      "execution_count": null,
      "outputs": []
    },
    {
      "cell_type": "code",
      "source": "",
      "metadata": {},
      "execution_count": null,
      "outputs": []
    },
    {
      "cell_type": "markdown",
      "source": "### Installing Software",
      "metadata": {}
    },
    {
      "cell_type": "markdown",
      "source": "Python has a lot of tools that help us do our jobs and explore data.\n\nSometimes we need to install more software and programmes to get the most out of our data science.\n\nPython is very popular and importantly FREE to use - there are 100,000's of things we could install to help us!\n\n#### Today we will install TWO pieces of software - Don't worry too much about what these are today, they will help us look at our data!",
      "metadata": {}
    },
    {
      "cell_type": "code",
      "source": "import pandas as pd",
      "metadata": {
        "trusted": true
      },
      "execution_count": 3,
      "outputs": []
    },
    {
      "cell_type": "code",
      "source": "import matplotlib.pyplot as plt",
      "metadata": {
        "trusted": true
      },
      "execution_count": 4,
      "outputs": []
    },
    {
      "cell_type": "markdown",
      "source": "### Reading in Data ",
      "metadata": {}
    },
    {
      "cell_type": "markdown",
      "source": "Here we will load in some real life nutitrition data!\n\nFor the rest of the session we will see what information we can learn about our data set.\n\nThe cell below will load our data that I have saved with this notebook....\n\nIf you run the first cell it might look like nothing has happened but if we run the second cell afterwards we should see our data....\n\nhere we are creating a variable called 'data' that contains our data st.\n\n\"pd.read_csv\" is a comamnd we are giving to the computer to load our data set that is saved in a CSV format",
      "metadata": {}
    },
    {
      "cell_type": "code",
      "source": "data = pd.read_csv(\"nutritiondatafinal1.csv\")",
      "metadata": {
        "trusted": true
      },
      "execution_count": 20,
      "outputs": [
        {
          "ename": "<class 'NameError'>",
          "evalue": "name 'pd' is not defined",
          "traceback": [
            "\u001b[0;31m---------------------------------------------------------------------------\u001b[0m",
            "\u001b[0;31mNameError\u001b[0m                                 Traceback (most recent call last)",
            "Cell \u001b[0;32mIn[20], line 1\u001b[0m\n\u001b[0;32m----> 1\u001b[0m data \u001b[38;5;241m=\u001b[39m \u001b[43mpd\u001b[49m\u001b[38;5;241m.\u001b[39mread_csv(\u001b[38;5;124m\"\u001b[39m\u001b[38;5;124mnutritiondatafinal1.csv\u001b[39m\u001b[38;5;124m\"\u001b[39m)\n",
            "\u001b[0;31mNameError\u001b[0m: name 'pd' is not defined"
          ],
          "output_type": "error"
        }
      ]
    },
    {
      "cell_type": "code",
      "source": "data",
      "metadata": {
        "trusted": true
      },
      "execution_count": 21,
      "outputs": [
        {
          "ename": "<class 'NameError'>",
          "evalue": "name 'data' is not defined",
          "traceback": [
            "\u001b[0;31m---------------------------------------------------------------------------\u001b[0m",
            "\u001b[0;31mNameError\u001b[0m                                 Traceback (most recent call last)",
            "Cell \u001b[0;32mIn[21], line 1\u001b[0m\n\u001b[0;32m----> 1\u001b[0m \u001b[43mdata\u001b[49m\n",
            "\u001b[0;31mNameError\u001b[0m: name 'data' is not defined"
          ],
          "output_type": "error"
        }
      ]
    },
    {
      "cell_type": "markdown",
      "source": "We should see from the above cells that we can see and our explore our dataset in more detail!\n\nHere we have 2887 rows of data across 7 collumns!",
      "metadata": {}
    },
    {
      "cell_type": "markdown",
      "source": "### Heads and Tails",
      "metadata": {}
    },
    {
      "cell_type": "markdown",
      "source": "It might be useful to see what information we have by looking at the rows in our data.\n\nWe can ask the computer to show us the Head of the data which is the top 6 rows and the TAIL of the data which is the bottom 6 rows. \n\nTry running the cells below to see what happens...",
      "metadata": {}
    },
    {
      "cell_type": "code",
      "source": "data.head()",
      "metadata": {
        "trusted": true
      },
      "execution_count": 23,
      "outputs": [
        {
          "ename": "<class 'NameError'>",
          "evalue": "name 'data' is not defined",
          "traceback": [
            "\u001b[0;31m---------------------------------------------------------------------------\u001b[0m",
            "\u001b[0;31mNameError\u001b[0m                                 Traceback (most recent call last)",
            "Cell \u001b[0;32mIn[23], line 1\u001b[0m\n\u001b[0;32m----> 1\u001b[0m \u001b[43mdata\u001b[49m\u001b[38;5;241m.\u001b[39mhead()\n",
            "\u001b[0;31mNameError\u001b[0m: name 'data' is not defined"
          ],
          "output_type": "error"
        }
      ]
    },
    {
      "cell_type": "code",
      "source": "data.tail()",
      "metadata": {
        "trusted": true
      },
      "execution_count": 25,
      "outputs": [
        {
          "ename": "<class 'NameError'>",
          "evalue": "name 'data' is not defined",
          "traceback": [
            "\u001b[0;31m---------------------------------------------------------------------------\u001b[0m",
            "\u001b[0;31mNameError\u001b[0m                                 Traceback (most recent call last)",
            "Cell \u001b[0;32mIn[25], line 1\u001b[0m\n\u001b[0;32m----> 1\u001b[0m \u001b[43mdata\u001b[49m\u001b[38;5;241m.\u001b[39mtail()\n",
            "\u001b[0;31mNameError\u001b[0m: name 'data' is not defined"
          ],
          "output_type": "error"
        }
      ]
    },
    {
      "cell_type": "markdown",
      "source": "Python is also very good for telling is WHAT our data is. Sometimes data can be text, it might be a full number or it might have decimal points. The code below tells us more information.",
      "metadata": {}
    },
    {
      "cell_type": "code",
      "source": "data.info()",
      "metadata": {},
      "execution_count": null,
      "outputs": []
    },
    {
      "cell_type": "markdown",
      "source": "### Summarising our data!",
      "metadata": {}
    },
    {
      "cell_type": "markdown",
      "source": "What we have done so far is interesting for learning about our data, but we can very quickly learning  ALOT more using the describe function!\n\nHere we can get a summary of every collumn within our data and and learn a lot of useful information! \n\nRun the cell below to see what happens...",
      "metadata": {}
    },
    {
      "cell_type": "code",
      "source": "data.describe()",
      "metadata": {
        "trusted": true
      },
      "execution_count": 27,
      "outputs": [
        {
          "ename": "<class 'NameError'>",
          "evalue": "name 'data' is not defined",
          "traceback": [
            "\u001b[0;31m---------------------------------------------------------------------------\u001b[0m",
            "\u001b[0;31mNameError\u001b[0m                                 Traceback (most recent call last)",
            "Cell \u001b[0;32mIn[27], line 1\u001b[0m\n\u001b[0;32m----> 1\u001b[0m \u001b[43mdata\u001b[49m\u001b[38;5;241m.\u001b[39mdescribe()\n",
            "\u001b[0;31mNameError\u001b[0m: name 'data' is not defined"
          ],
          "output_type": "error"
        }
      ]
    },
    {
      "cell_type": "markdown",
      "source": "You'll see that it has done a lot of mathematical calucations for us and shows a lot of detail!\n\nHere we can the minimum and maximum values for each collumn of data and useful numbers for maths and statistics.",
      "metadata": {}
    },
    {
      "cell_type": "markdown",
      "source": "# Lets try this in our groups!",
      "metadata": {}
    },
    {
      "cell_type": "markdown",
      "source": "Working in our groups lets try to use some of the skills we have just learned.\n\nMyself and all the supporters here today will be here to help with anything you need - we want to see you talking about data science and trying to run some code.\n\nOur data has 6 collumns and we have 6 groups - what a coincidence!\nEach group will be assinged one of the following categories;\n\n    - Protein\n    - Fat\n    - Carbs \n    - Energy \n    - Sugars\n    - Cholesterol\n    \n    \nYour aim is to use your new data science skills to answer a few questions about our data!",
      "metadata": {}
    },
    {
      "cell_type": "markdown",
      "source": "## Each group will need to load a different data set ",
      "metadata": {}
    },
    {
      "cell_type": "markdown",
      "source": "The code below this box will need to changed to reflect your group.\n\n\nFor example if you are the group studing 'Carbs' you'll need to add the word 'Carbs' to the cell below so it looks like this;\n\nnewdata = pd.read_csv(\"Carbs.csv\")\n\nEach group will need to spell the word exactly as it appears in the cell above - let us know if you need any help running the box below.",
      "metadata": {}
    },
    {
      "cell_type": "code",
      "source": "newdata = pd.read_csv(\".csv\")",
      "metadata": {
        "trusted": true
      },
      "execution_count": 29,
      "outputs": [
        {
          "ename": "<class 'NameError'>",
          "evalue": "name 'pd' is not defined",
          "traceback": [
            "\u001b[0;31m---------------------------------------------------------------------------\u001b[0m",
            "\u001b[0;31mNameError\u001b[0m                                 Traceback (most recent call last)",
            "Cell \u001b[0;32mIn[29], line 1\u001b[0m\n\u001b[0;32m----> 1\u001b[0m newdata \u001b[38;5;241m=\u001b[39m \u001b[43mpd\u001b[49m\u001b[38;5;241m.\u001b[39mread_csv(\u001b[38;5;124m\"\u001b[39m\u001b[38;5;124m.csv\u001b[39m\u001b[38;5;124m\"\u001b[39m)\n",
            "\u001b[0;31mNameError\u001b[0m: name 'pd' is not defined"
          ],
          "output_type": "error"
        }
      ]
    },
    {
      "cell_type": "markdown",
      "source": "Check this has worked....",
      "metadata": {}
    },
    {
      "cell_type": "code",
      "source": "newdata",
      "metadata": {
        "trusted": true
      },
      "execution_count": 30,
      "outputs": [
        {
          "ename": "<class 'NameError'>",
          "evalue": "name 'newdata' is not defined",
          "traceback": [
            "\u001b[0;31m---------------------------------------------------------------------------\u001b[0m",
            "\u001b[0;31mNameError\u001b[0m                                 Traceback (most recent call last)",
            "Cell \u001b[0;32mIn[30], line 1\u001b[0m\n\u001b[0;32m----> 1\u001b[0m \u001b[43mnewdata\u001b[49m\n",
            "\u001b[0;31mNameError\u001b[0m: name 'newdata' is not defined"
          ],
          "output_type": "error"
        }
      ]
    },
    {
      "cell_type": "markdown",
      "source": "Using the above the code can you answer:\n    \n    How many rows and collumns does your data have? Type in the box below after the #",
      "metadata": {}
    },
    {
      "cell_type": "code",
      "source": "#type answer here",
      "metadata": {},
      "execution_count": null,
      "outputs": []
    },
    {
      "cell_type": "markdown",
      "source": "We have used the head and tail features this morning. Can you try using these demands to answer a few questions? Run the cells below and fill in your answers",
      "metadata": {}
    },
    {
      "cell_type": "code",
      "source": "newdata.head()",
      "metadata": {
        "trusted": true
      },
      "execution_count": 31,
      "outputs": [
        {
          "ename": "<class 'NameError'>",
          "evalue": "name 'newdata' is not defined",
          "traceback": [
            "\u001b[0;31m---------------------------------------------------------------------------\u001b[0m",
            "\u001b[0;31mNameError\u001b[0m                                 Traceback (most recent call last)",
            "Cell \u001b[0;32mIn[31], line 1\u001b[0m\n\u001b[0;32m----> 1\u001b[0m \u001b[43mnewdata\u001b[49m\u001b[38;5;241m.\u001b[39mhead()\n",
            "\u001b[0;31mNameError\u001b[0m: name 'newdata' is not defined"
          ],
          "output_type": "error"
        }
      ]
    },
    {
      "cell_type": "markdown",
      "source": "What are the top 3 rows in your data? Type below...\n\n\n",
      "metadata": {}
    },
    {
      "cell_type": "code",
      "source": "newdata.tail()",
      "metadata": {
        "trusted": true
      },
      "execution_count": 32,
      "outputs": [
        {
          "ename": "<class 'NameError'>",
          "evalue": "name 'newdata' is not defined",
          "traceback": [
            "\u001b[0;31m---------------------------------------------------------------------------\u001b[0m",
            "\u001b[0;31mNameError\u001b[0m                                 Traceback (most recent call last)",
            "Cell \u001b[0;32mIn[32], line 1\u001b[0m\n\u001b[0;32m----> 1\u001b[0m \u001b[43mnewdata\u001b[49m\u001b[38;5;241m.\u001b[39mtail()\n",
            "\u001b[0;31mNameError\u001b[0m: name 'newdata' is not defined"
          ],
          "output_type": "error"
        }
      ]
    },
    {
      "cell_type": "markdown",
      "source": "What are the bottom three rows in your data? Type below....",
      "metadata": {}
    },
    {
      "cell_type": "markdown",
      "source": "It would also we useful to know what kind of data we have, run the code below to explore data types.",
      "metadata": {}
    },
    {
      "cell_type": "code",
      "source": "newdata.dtypes",
      "metadata": {
        "trusted": true
      },
      "execution_count": 33,
      "outputs": [
        {
          "ename": "<class 'NameError'>",
          "evalue": "name 'newdata' is not defined",
          "traceback": [
            "\u001b[0;31m---------------------------------------------------------------------------\u001b[0m",
            "\u001b[0;31mNameError\u001b[0m                                 Traceback (most recent call last)",
            "Cell \u001b[0;32mIn[33], line 1\u001b[0m\n\u001b[0;32m----> 1\u001b[0m \u001b[43mnewdata\u001b[49m\u001b[38;5;241m.\u001b[39mdtypes\n",
            "\u001b[0;31mNameError\u001b[0m: name 'newdata' is not defined"
          ],
          "output_type": "error"
        }
      ]
    },
    {
      "cell_type": "markdown",
      "source": "Finally I would like you to summarise the data you have been working with! \nRun the code below to summaries your data and answer the following questions.",
      "metadata": {}
    },
    {
      "cell_type": "code",
      "source": "newdata.decscribe()",
      "metadata": {
        "trusted": true
      },
      "execution_count": 34,
      "outputs": [
        {
          "ename": "<class 'NameError'>",
          "evalue": "name 'newdata' is not defined",
          "traceback": [
            "\u001b[0;31m---------------------------------------------------------------------------\u001b[0m",
            "\u001b[0;31mNameError\u001b[0m                                 Traceback (most recent call last)",
            "Cell \u001b[0;32mIn[34], line 1\u001b[0m\n\u001b[0;32m----> 1\u001b[0m \u001b[43mnewdata\u001b[49m\u001b[38;5;241m.\u001b[39mdecscribe()\n",
            "\u001b[0;31mNameError\u001b[0m: name 'newdata' is not defined"
          ],
          "output_type": "error"
        }
      ]
    },
    {
      "cell_type": "code",
      "source": "What is the count of your data set?\nWhat is the minimum value?\nWhat is the maximum value?",
      "metadata": {
        "trusted": true
      },
      "execution_count": 35,
      "outputs": [
        {
          "name": "stdout",
          "text": "\u001b[0;31mInit signature:\u001b[0m \u001b[0mset\u001b[0m\u001b[0;34m(\u001b[0m\u001b[0mself\u001b[0m\u001b[0;34m,\u001b[0m \u001b[0;34m/\u001b[0m\u001b[0;34m,\u001b[0m \u001b[0;34m*\u001b[0m\u001b[0margs\u001b[0m\u001b[0;34m,\u001b[0m \u001b[0;34m**\u001b[0m\u001b[0mkwargs\u001b[0m\u001b[0;34m)\u001b[0m\u001b[0;34m\u001b[0m\u001b[0;34m\u001b[0m\u001b[0m\n\u001b[0;31mDocstring:\u001b[0m     \nset() -> new empty set object\nset(iterable) -> new set object\n\nBuild an unordered collection of unique elements.\n\u001b[0;31mType:\u001b[0m           type\n\u001b[0;31mSubclasses:\u001b[0m     \nObject `value` not found.\nObject `value` not found.\n",
          "output_type": "stream"
        }
      ]
    },
    {
      "cell_type": "markdown",
      "source": "# CONGRATULATIONS YOU HAVE COMPLETED A PIECE OF DATA SCIENCE WORK!\n\n## Everyone will receive a certificate from me to see you have successfully completed a Pythyon training course at the University of Leeds!",
      "metadata": {}
    },
    {
      "cell_type": "code",
      "source": "",
      "metadata": {},
      "execution_count": null,
      "outputs": []
    }
  ]
}